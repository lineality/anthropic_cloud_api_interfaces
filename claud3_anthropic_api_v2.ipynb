{
  "nbformat": 4,
  "nbformat_minor": 0,
  "metadata": {
    "colab": {
      "provenance": []
    },
    "kernelspec": {
      "name": "python3",
      "display_name": "Python 3"
    },
    "language_info": {
      "name": "python"
    }
  },
  "cells": [
    {
      "cell_type": "markdown",
      "source": [
        "# Is The Claude3 Form Antropic\n",
        "\n",
        "- https://docs.anthropic.com/claude/reference/client-sdks\n",
        "\n",
        "- https://docs.anthropic.com/claude/reference/client-sdks\n",
        "\n",
        "- https://docs.anthropic.com/claude/reference/messages_post\n",
        "\n"
      ],
      "metadata": {
        "id": "g1t3FZljdoLW"
      }
    },
    {
      "cell_type": "code",
      "execution_count": 1,
      "metadata": {
        "id": "xzmFzoSaa9_u"
      },
      "outputs": [],
      "source": [
        "from google.colab import userdata\n",
        "anthro_ai_key = userdata.get('anthro_ai_key')"
      ]
    },
    {
      "cell_type": "code",
      "source": [],
      "metadata": {
        "id": "dvWT4ZBCennt"
      },
      "execution_count": null,
      "outputs": []
    },
    {
      "cell_type": "markdown",
      "source": [
        "# Method 1\n",
        "\n",
        "```\n",
        "{\n",
        "  \"completion\": \" Hello! My name is Claude.\",\n",
        "  \"id\": \"compl_018CKm6gsux7P8yMcwZbeCPw\",\n",
        "  \"model\": \"claude-2.1\",\n",
        "  \"stop_reason\": \"stop_sequence\",\n",
        "  \"type\": \"completion\"\n",
        "}\n",
        "```"
      ],
      "metadata": {
        "id": "OhfSVYg4bVLI"
      }
    },
    {
      "cell_type": "code",
      "source": [
        "import requests\n"
      ],
      "metadata": {
        "id": "5RKzNuWRbBJu"
      },
      "execution_count": null,
      "outputs": []
    },
    {
      "cell_type": "code",
      "source": [
        "# curl https://api.anthropic.com/v1/complete \\\n",
        "#      --header \"x-api-key: $ANTHROPIC_API_KEY\" \\\n",
        "#      --header \"anthropic-version: 2023-06-01\" \\\n",
        "#      --header \"content-type: application/json\" \\\n",
        "#      --data \\\n",
        "# '{\n",
        "#     \"model\": \"claude-2.1\",\n",
        "#     \"max_tokens_to_sample\": 1024,\n",
        "#     \"prompt\": \"\\n\\nHuman: Hello, Claude\\n\\nAssistant:\"\n",
        "# }'\n",
        "\n",
        "\n",
        "import os\n",
        "import requests\n",
        "\n",
        "# ANTHROPIC_API_KEY = os.environ.get('ANTHROPIC_API_KEY')\n",
        "ANTHROPIC_API_KEY = anthro_ai_key\n",
        "\n",
        "\n",
        "def simple_ask_anthropic(input_string, this_model):\n",
        "\n",
        "    headers = {\n",
        "        \"x-api-key\": ANTHROPIC_API_KEY,\n",
        "        \"anthropic-version\": \"2023-06-01\",\n",
        "        \"content-type\": \"application/json\"\n",
        "    }\n",
        "\n",
        "    data = {\n",
        "        \"model\": this_model,\n",
        "        \"max_tokens_to_sample\": 1024,\n",
        "        \"prompt\": f\"\\n\\nHuman: {input_string}\\n\\nAssistant:\"\n",
        "    }\n",
        "\n",
        "    response = requests.post(\"https://api.anthropic.com/v1/complete\", headers=headers, json=data)\n",
        "\n",
        "    if response.status_code == 200:\n",
        "        result = response.json()\n",
        "        answer = result[\"completion\"]\n",
        "    else:\n",
        "        print(f\"Request failed with status code {response.status_code}\")\n",
        "\n",
        "        answer = response.text\n",
        "\n",
        "\n",
        "    # print(answer)\n",
        "\n",
        "    return answer\n",
        "\n",
        "this_model = \"claude-2.1\"\n",
        "input_string = \"time\"\n",
        "answer = simple_ask_anthropic(input_string, this_model)\n",
        "\n",
        "print(answer)"
      ],
      "metadata": {
        "colab": {
          "base_uri": "https://localhost:8080/"
        },
        "id": "nECQpAuAbW_N",
        "outputId": "e94795ca-50fb-4e39-a6b4-b4c6a92197e5"
      },
      "execution_count": 10,
      "outputs": [
        {
          "output_type": "stream",
          "name": "stdout",
          "text": [
            " Unfortunately I do not have access to the current time. As an AI assistant created by Anthropic to be helpful, harmless, and honest, I don't have an internal clock or calendar. I rely on users to provide me with any time-related information.\n"
          ]
        }
      ]
    },
    {
      "cell_type": "markdown",
      "source": [
        "# Method 2"
      ],
      "metadata": {
        "id": "0mMddGENbXHk"
      }
    },
    {
      "cell_type": "code",
      "source": [
        "!pip install -q anthropic"
      ],
      "metadata": {
        "colab": {
          "base_uri": "https://localhost:8080/"
        },
        "id": "8T7MzLpsbYPC",
        "outputId": "f9d8c777-f521-4d9c-8dc0-bdb1befc4bd4"
      },
      "execution_count": 3,
      "outputs": [
        {
          "output_type": "stream",
          "name": "stdout",
          "text": [
            "\u001b[2K     \u001b[90m━━━━━━━━━━━━━━━━━━━━━━━━━━━━━━━━━━━━━━━━\u001b[0m \u001b[32m851.6/851.6 kB\u001b[0m \u001b[31m8.3 MB/s\u001b[0m eta \u001b[36m0:00:00\u001b[0m\n",
            "\u001b[2K     \u001b[90m━━━━━━━━━━━━━━━━━━━━━━━━━━━━━━━━━━━━━━━━\u001b[0m \u001b[32m75.6/75.6 kB\u001b[0m \u001b[31m6.4 MB/s\u001b[0m eta \u001b[36m0:00:00\u001b[0m\n",
            "\u001b[2K     \u001b[90m━━━━━━━━━━━━━━━━━━━━━━━━━━━━━━━━━━━━━━━━\u001b[0m \u001b[32m77.8/77.8 kB\u001b[0m \u001b[31m8.6 MB/s\u001b[0m eta \u001b[36m0:00:00\u001b[0m\n",
            "\u001b[2K     \u001b[90m━━━━━━━━━━━━━━━━━━━━━━━━━━━━━━━━━━━━━━━━\u001b[0m \u001b[32m58.3/58.3 kB\u001b[0m \u001b[31m6.4 MB/s\u001b[0m eta \u001b[36m0:00:00\u001b[0m\n",
            "\u001b[?25h"
          ]
        }
      ]
    },
    {
      "cell_type": "code",
      "source": [
        "import anthropic\n",
        "\n",
        "client = anthropic.Anthropic(\n",
        "    # defaults to os.environ.get(\"ANTHROPIC_API_KEY\")\n",
        "    api_key=anthro_ai_key,\n",
        ")\n",
        "message = client.messages.create(\n",
        "    model=\"claude-3-opus-20240229\",\n",
        "    max_tokens=1024,\n",
        "    messages=[\n",
        "        {\"role\": \"user\", \"content\": \"Hello, Claude\"}\n",
        "    ]\n",
        ")\n",
        "print(message.content)\n",
        "print(message.content[0].text)"
      ],
      "metadata": {
        "colab": {
          "base_uri": "https://localhost:8080/"
        },
        "id": "QFXAhbIrdVJU",
        "outputId": "adbde721-59ab-43e3-e319-7982f7e532a0"
      },
      "execution_count": 17,
      "outputs": [
        {
          "output_type": "stream",
          "name": "stdout",
          "text": [
            "[ContentBlock(text=\"Hello! It's nice to meet you. How are you doing today?\", type='text')]\n"
          ]
        }
      ]
    },
    {
      "cell_type": "code",
      "source": [
        "type(message)"
      ],
      "metadata": {
        "colab": {
          "base_uri": "https://localhost:8080/",
          "height": 187
        },
        "id": "Ijjzjg6_ofko",
        "outputId": "374a52f8-21bf-44a9-d846-4f16154244f1"
      },
      "execution_count": 12,
      "outputs": [
        {
          "output_type": "execute_result",
          "data": {
            "text/plain": [
              "anthropic.types.message.Message"
            ],
            "text/html": [
              "<div style=\"max-width:800px; border: 1px solid var(--colab-border-color);\"><style>\n",
              "      pre.function-repr-contents {\n",
              "        overflow-x: auto;\n",
              "        padding: 8px 12px;\n",
              "        max-height: 500px;\n",
              "      }\n",
              "\n",
              "      pre.function-repr-contents.function-repr-contents-collapsed {\n",
              "        cursor: pointer;\n",
              "        max-height: 100px;\n",
              "      }\n",
              "    </style>\n",
              "    <pre style=\"white-space: initial; background:\n",
              "         var(--colab-secondary-surface-color); padding: 8px 12px;\n",
              "         border-bottom: 1px solid var(--colab-border-color);\"><b>anthropic.types.message.Message</b><br/>def __init__(self, /, **data: Any) -&gt; None</pre><pre class=\"function-repr-contents function-repr-contents-collapsed\" style=\"\"><a class=\"filepath\" style=\"display:none\" href=\"#\">/usr/local/lib/python3.10/dist-packages/anthropic/types/message.py</a>Usage docs: https://docs.pydantic.dev/2.6/concepts/models/\n",
              "\n",
              "A base class for creating Pydantic models.\n",
              "\n",
              "Attributes:\n",
              "    __class_vars__: The names of classvars defined on the model.\n",
              "    __private_attributes__: Metadata about the private attributes of the model.\n",
              "    __signature__: The signature for instantiating the model.\n",
              "\n",
              "    __pydantic_complete__: Whether model building is completed, or if there are still undefined fields.\n",
              "    __pydantic_core_schema__: The pydantic-core schema used to build the SchemaValidator and SchemaSerializer.\n",
              "    __pydantic_custom_init__: Whether the model has a custom `__init__` function.\n",
              "    __pydantic_decorators__: Metadata containing the decorators defined on the model.\n",
              "        This replaces `Model.__validators__` and `Model.__root_validators__` from Pydantic V1.\n",
              "    __pydantic_generic_metadata__: Metadata for generic models; contains data used for a similar purpose to\n",
              "        __args__, __origin__, __parameters__ in typing-module generics. May eventually be replaced by these.\n",
              "    __pydantic_parent_namespace__: Parent namespace of the model, used for automatic rebuilding of models.\n",
              "    __pydantic_post_init__: The name of the post-init method for the model, if defined.\n",
              "    __pydantic_root_model__: Whether the model is a `RootModel`.\n",
              "    __pydantic_serializer__: The pydantic-core SchemaSerializer used to dump instances of the model.\n",
              "    __pydantic_validator__: The pydantic-core SchemaValidator used to validate instances of the model.\n",
              "\n",
              "    __pydantic_extra__: An instance attribute with the values of extra fields from validation when\n",
              "        `model_config[&#x27;extra&#x27;] == &#x27;allow&#x27;`.\n",
              "    __pydantic_fields_set__: An instance attribute with the names of fields explicitly set.\n",
              "    __pydantic_private__: Instance attribute with the values of private attributes set on the model instance.</pre>\n",
              "      <script>\n",
              "      if (google.colab.kernel.accessAllowed && google.colab.files && google.colab.files.view) {\n",
              "        for (const element of document.querySelectorAll('.filepath')) {\n",
              "          element.style.display = 'block'\n",
              "          element.onclick = (event) => {\n",
              "            event.preventDefault();\n",
              "            event.stopPropagation();\n",
              "            google.colab.files.view(element.textContent, 13);\n",
              "          };\n",
              "        }\n",
              "      }\n",
              "      for (const element of document.querySelectorAll('.function-repr-contents')) {\n",
              "        element.onclick = (event) => {\n",
              "          event.preventDefault();\n",
              "          event.stopPropagation();\n",
              "          element.classList.toggle('function-repr-contents-collapsed');\n",
              "        };\n",
              "      }\n",
              "      </script>\n",
              "      </div>"
            ]
          },
          "metadata": {},
          "execution_count": 12
        }
      ]
    },
    {
      "cell_type": "code",
      "source": [
        "type(message.content)"
      ],
      "metadata": {
        "colab": {
          "base_uri": "https://localhost:8080/"
        },
        "id": "lmb33fFBokWd",
        "outputId": "cb0d29f3-0279-45ac-a6f1-bf483eb7f282"
      },
      "execution_count": 14,
      "outputs": [
        {
          "output_type": "execute_result",
          "data": {
            "text/plain": [
              "list"
            ]
          },
          "metadata": {},
          "execution_count": 14
        }
      ]
    },
    {
      "cell_type": "code",
      "source": [
        "type(message.content[0].text)"
      ],
      "metadata": {
        "colab": {
          "base_uri": "https://localhost:8080/"
        },
        "id": "Hu-Ho1jJouI_",
        "outputId": "ccaeabb4-e4be-49d6-8f8e-cfcfbab167be"
      },
      "execution_count": 16,
      "outputs": [
        {
          "output_type": "execute_result",
          "data": {
            "text/plain": [
              "str"
            ]
          },
          "metadata": {},
          "execution_count": 16
        }
      ]
    },
    {
      "cell_type": "code",
      "source": [
        "print(message.content[0].text)"
      ],
      "metadata": {
        "colab": {
          "base_uri": "https://localhost:8080/"
        },
        "id": "t0bynYk1o20_",
        "outputId": "d5e7d389-82fc-48ed-8110-5d302ce7cf07"
      },
      "execution_count": 18,
      "outputs": [
        {
          "output_type": "stream",
          "name": "stdout",
          "text": [
            "Hello! It's nice to meet you. How are you doing today?\n"
          ]
        }
      ]
    },
    {
      "cell_type": "code",
      "source": [
        "import anthropic\n",
        "from anthropic import HUMAN_PROMPT, AI_PROMPT\n",
        "\n",
        "client.completions.create(\n",
        "    model=\"claude-2.1\",\n",
        "    max_tokens_to_sample=1024,\n",
        "    prompt=f\"{HUMAN_PROMPT} Hello, Claude{AI_PROMPT}\",\n",
        ")"
      ],
      "metadata": {
        "colab": {
          "base_uri": "https://localhost:8080/"
        },
        "id": "NA1LCKmLczLU",
        "outputId": "f051950b-73d3-44ab-f34e-ca247a83a990"
      },
      "execution_count": 7,
      "outputs": [
        {
          "output_type": "execute_result",
          "data": {
            "text/plain": [
              "Completion(id='compl_017xQD12tntohF6shXD9wm5z', completion=' Hello!', model='claude-2.1', stop_reason='stop_sequence', type='completion', stop='\\n\\nHuman:', log_id='compl_017xQD12tntohF6shXD9wm5z')"
            ]
          },
          "metadata": {},
          "execution_count": 7
        }
      ]
    },
    {
      "cell_type": "code",
      "source": [
        "# curl https://api.anthropic.com/v1/complete \\\n",
        "#      --header \"x-api-key: $ANTHROPIC_API_KEY\" \\\n",
        "#      --header \"anthropic-version: 2023-06-01\" \\\n",
        "#      --header \"content-type: application/json\" \\\n",
        "#      --data \\\n",
        "# '{\n",
        "#     \"model\": \"claude-2.1\",\n",
        "#     \"max_tokens_to_sample\": 1024,\n",
        "#     \"prompt\": \"\\n\\nHuman: Hello, Claude\\n\\nAssistant:\"\n",
        "# }'\n",
        "\n",
        "\n",
        "import os\n",
        "import requests\n",
        "\n",
        "# ANTHROPIC_API_KEY = os.environ.get('ANTHROPIC_API_KEY')\n",
        "ANTHROPIC_API_KEY = anthro_ai_key\n",
        "\n",
        "\n",
        "def simple_ask_anthropic_py(input_string, this_model):\n",
        "\n",
        "    import anthropic\n",
        "\n",
        "    client = anthropic.Anthropic(\n",
        "        # defaults to os.environ.get(\"ANTHROPIC_API_KEY\")\n",
        "        api_key=anthro_ai_key,\n",
        "    )\n",
        "    message = client.messages.create(\n",
        "        model=this_model,\n",
        "        max_tokens=1024,\n",
        "        messages=[\n",
        "            {\"role\": \"user\", \"content\": input_string}\n",
        "        ]\n",
        "    )\n",
        "\n",
        "    # print(message.content)\n",
        "\n",
        "    answer = message.content[0].text\n",
        "\n",
        "    # print(answer)\n",
        "\n",
        "    return answer\n",
        "\n",
        "this_model = \"claude-3-opus-20240229\"\n",
        "this_model = \"claude-2.1\"\n",
        "input_string = \"time\"\n",
        "answer = simple_ask_anthropic_py(input_string, this_model)\n",
        "\n",
        "print(answer)"
      ],
      "metadata": {
        "colab": {
          "base_uri": "https://localhost:8080/"
        },
        "id": "0vL3AeuFo9_r",
        "outputId": "d60d81af-6029-4cdc-e46f-a34c912c18e0"
      },
      "execution_count": 21,
      "outputs": [
        {
          "output_type": "stream",
          "name": "stdout",
          "text": [
            "Unfortunately I do not have access to the current time. As an AI assistant created by Anthropic to be helpful, harmless, and honest, I don't have an internal clock or calendar. I rely on humans to provide me with any time or date information I need.\n"
          ]
        }
      ]
    }
  ]
}