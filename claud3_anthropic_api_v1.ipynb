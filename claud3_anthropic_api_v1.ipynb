{
  "nbformat": 4,
  "nbformat_minor": 0,
  "metadata": {
    "colab": {
      "provenance": []
    },
    "kernelspec": {
      "name": "python3",
      "display_name": "Python 3"
    },
    "language_info": {
      "name": "python"
    }
  },
  "cells": [
    {
      "cell_type": "markdown",
      "source": [
        "# Is The Claude3 Form Antropic\n",
        "\n",
        "- https://docs.anthropic.com/claude/reference/client-sdks\n",
        "\n",
        "- https://docs.anthropic.com/claude/reference/client-sdks\n",
        "\n",
        "- https://docs.anthropic.com/claude/reference/messages_post\n",
        "\n"
      ],
      "metadata": {
        "id": "g1t3FZljdoLW"
      }
    },
    {
      "cell_type": "code",
      "execution_count": 1,
      "metadata": {
        "id": "xzmFzoSaa9_u"
      },
      "outputs": [],
      "source": [
        "from google.colab import userdata\n",
        "anthro_ai_key = userdata.get('anthro_ai_key')"
      ]
    },
    {
      "cell_type": "code",
      "source": [],
      "metadata": {
        "id": "dvWT4ZBCennt"
      },
      "execution_count": null,
      "outputs": []
    },
    {
      "cell_type": "markdown",
      "source": [
        "# Method 1\n",
        "\n",
        "```\n",
        "{\n",
        "  \"completion\": \" Hello! My name is Claude.\",\n",
        "  \"id\": \"compl_018CKm6gsux7P8yMcwZbeCPw\",\n",
        "  \"model\": \"claude-2.1\",\n",
        "  \"stop_reason\": \"stop_sequence\",\n",
        "  \"type\": \"completion\"\n",
        "}\n",
        "```"
      ],
      "metadata": {
        "id": "OhfSVYg4bVLI"
      }
    },
    {
      "cell_type": "code",
      "source": [
        "import requests\n"
      ],
      "metadata": {
        "id": "5RKzNuWRbBJu"
      },
      "execution_count": null,
      "outputs": []
    },
    {
      "cell_type": "code",
      "source": [
        "# curl https://api.anthropic.com/v1/complete \\\n",
        "#      --header \"x-api-key: $ANTHROPIC_API_KEY\" \\\n",
        "#      --header \"anthropic-version: 2023-06-01\" \\\n",
        "#      --header \"content-type: application/json\" \\\n",
        "#      --data \\\n",
        "# '{\n",
        "#     \"model\": \"claude-2.1\",\n",
        "#     \"max_tokens_to_sample\": 1024,\n",
        "#     \"prompt\": \"\\n\\nHuman: Hello, Claude\\n\\nAssistant:\"\n",
        "# }'\n",
        "\n",
        "\n",
        "import os\n",
        "import requests\n",
        "\n",
        "# ANTHROPIC_API_KEY = os.environ.get('ANTHROPIC_API_KEY')\n",
        "ANTHROPIC_API_KEY = anthro_ai_key\n",
        "\n",
        "headers = {\n",
        "    \"x-api-key\": ANTHROPIC_API_KEY,\n",
        "    \"anthropic-version\": \"2023-06-01\",\n",
        "    \"content-type\": \"application/json\"\n",
        "}\n",
        "\n",
        "data = {\n",
        "    \"model\": \"claude-2.1\",\n",
        "    \"max_tokens_to_sample\": 1024,\n",
        "    \"prompt\": \"\\n\\nHuman: Hello, Claude\\n\\nAssistant:\"\n",
        "}\n",
        "\n",
        "response = requests.post(\"https://api.anthropic.com/v1/complete\", headers=headers, json=data)\n",
        "\n",
        "if response.status_code == 200:\n",
        "    result = response.json()\n",
        "    print(result[\"completion\"])\n",
        "else:\n",
        "    print(f\"Request failed with status code {response.status_code}\")\n",
        "    print(response.text)"
      ],
      "metadata": {
        "colab": {
          "base_uri": "https://localhost:8080/"
        },
        "id": "nECQpAuAbW_N",
        "outputId": "da77ba1a-86c2-451a-f168-c5173f5198f8"
      },
      "execution_count": 2,
      "outputs": [
        {
          "output_type": "stream",
          "name": "stdout",
          "text": [
            " Hello!\n"
          ]
        }
      ]
    },
    {
      "cell_type": "markdown",
      "source": [
        "# Method 2"
      ],
      "metadata": {
        "id": "0mMddGENbXHk"
      }
    },
    {
      "cell_type": "code",
      "source": [
        "!pip install -q anthropic"
      ],
      "metadata": {
        "colab": {
          "base_uri": "https://localhost:8080/"
        },
        "id": "8T7MzLpsbYPC",
        "outputId": "f9d8c777-f521-4d9c-8dc0-bdb1befc4bd4"
      },
      "execution_count": 3,
      "outputs": [
        {
          "output_type": "stream",
          "name": "stdout",
          "text": [
            "\u001b[2K     \u001b[90m━━━━━━━━━━━━━━━━━━━━━━━━━━━━━━━━━━━━━━━━\u001b[0m \u001b[32m851.6/851.6 kB\u001b[0m \u001b[31m8.3 MB/s\u001b[0m eta \u001b[36m0:00:00\u001b[0m\n",
            "\u001b[2K     \u001b[90m━━━━━━━━━━━━━━━━━━━━━━━━━━━━━━━━━━━━━━━━\u001b[0m \u001b[32m75.6/75.6 kB\u001b[0m \u001b[31m6.4 MB/s\u001b[0m eta \u001b[36m0:00:00\u001b[0m\n",
            "\u001b[2K     \u001b[90m━━━━━━━━━━━━━━━━━━━━━━━━━━━━━━━━━━━━━━━━\u001b[0m \u001b[32m77.8/77.8 kB\u001b[0m \u001b[31m8.6 MB/s\u001b[0m eta \u001b[36m0:00:00\u001b[0m\n",
            "\u001b[2K     \u001b[90m━━━━━━━━━━━━━━━━━━━━━━━━━━━━━━━━━━━━━━━━\u001b[0m \u001b[32m58.3/58.3 kB\u001b[0m \u001b[31m6.4 MB/s\u001b[0m eta \u001b[36m0:00:00\u001b[0m\n",
            "\u001b[?25h"
          ]
        }
      ]
    },
    {
      "cell_type": "code",
      "source": [
        "import anthropic\n",
        "\n",
        "client = anthropic.Anthropic(\n",
        "    # defaults to os.environ.get(\"ANTHROPIC_API_KEY\")\n",
        "    api_key=anthro_ai_key,\n",
        ")\n",
        "message = client.messages.create(\n",
        "    model=\"claude-3-opus-20240229\",\n",
        "    max_tokens=1024,\n",
        "    messages=[\n",
        "        {\"role\": \"user\", \"content\": \"Hello, Claude\"}\n",
        "    ]\n",
        ")\n",
        "print(message.content)"
      ],
      "metadata": {
        "colab": {
          "base_uri": "https://localhost:8080/"
        },
        "id": "QFXAhbIrdVJU",
        "outputId": "23967548-9972-4363-b540-8702eb6823df"
      },
      "execution_count": 5,
      "outputs": [
        {
          "output_type": "stream",
          "name": "stdout",
          "text": [
            "[ContentBlock(text=\"Hello! It's nice to meet you. How can I assist you today?\", type='text')]\n"
          ]
        }
      ]
    },
    {
      "cell_type": "code",
      "source": [
        "import anthropic\n",
        "from anthropic import HUMAN_PROMPT, AI_PROMPT\n",
        "\n",
        "client.completions.create(\n",
        "    model=\"claude-2.1\",\n",
        "    max_tokens_to_sample=1024,\n",
        "    prompt=f\"{HUMAN_PROMPT} Hello, Claude{AI_PROMPT}\",\n",
        ")"
      ],
      "metadata": {
        "colab": {
          "base_uri": "https://localhost:8080/"
        },
        "id": "NA1LCKmLczLU",
        "outputId": "f051950b-73d3-44ab-f34e-ca247a83a990"
      },
      "execution_count": 7,
      "outputs": [
        {
          "output_type": "execute_result",
          "data": {
            "text/plain": [
              "Completion(id='compl_017xQD12tntohF6shXD9wm5z', completion=' Hello!', model='claude-2.1', stop_reason='stop_sequence', type='completion', stop='\\n\\nHuman:', log_id='compl_017xQD12tntohF6shXD9wm5z')"
            ]
          },
          "metadata": {},
          "execution_count": 7
        }
      ]
    }
  ]
}